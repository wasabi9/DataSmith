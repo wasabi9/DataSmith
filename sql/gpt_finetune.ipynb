{
 "cells": [
  {
   "cell_type": "code",
   "execution_count": 2,
   "metadata": {},
   "outputs": [],
   "source": [
    "import os\n",
    "import openai\n",
    "from datetime import datetime\n",
    "from dotenv import load_dotenv()\n",
    "load_dotenv()\n",
    "openai.api_key = os.environ[\"OPENAI_API_KEY\"]"
   ]
  },
  {
   "cell_type": "code",
   "execution_count": 20,
   "metadata": {},
   "outputs": [],
   "source": [
    "def create_files(usecase: str, train_file: str, val_file: str=None):\n",
    "    openai.File.create(\n",
    "        file=open(train_file, \"rb\"),\n",
    "        purpose='fine-tune',\n",
    "        user_provided_filename=\"train_\"+usecase+str(datetime.now()).replace(\" \", \"_\")\n",
    "    )\n",
    "\n",
    "    if val_file is not None:\n",
    "        openai.File.create(\n",
    "            file=open(val_file, \"rb\"),\n",
    "            purpose='fine-tune',\n",
    "            user_provided_filename=\"val_\"+usecase+str(datetime.now()).replace(\" \", \"_\")\n",
    "        )\n",
    "\n",
    "def create_jobs(train_file: str, val_file: str=None):\n",
    "    if val_file is None:\n",
    "        openai.FineTuningJob.create(training_file = train_file, model = \"gpt-3.5-turbo\")    \n",
    "    else:\n",
    "        openai.FineTuningJob.create(training_file = train_file, validation_file = val_file, model = \"gpt-3.5-turbo\")"
   ]
  },
  {
   "cell_type": "code",
   "execution_count": 8,
   "metadata": {},
   "outputs": [],
   "source": [
    "usecase = \"blotout\"\n",
    "train_file = \"/Users/abhinaykumar/Desktop/Work/featherflow/llama-tests/datasets/25dd7090-0b9f-4ffe-aafb-ad3266011955/training/training_data.jsonl\"\n",
    "create_files(usecase=usecase, train_file=train_file)"
   ]
  },
  {
   "cell_type": "code",
   "execution_count": 38,
   "metadata": {},
   "outputs": [
    {
     "name": "stdout",
     "output_type": "stream",
     "text": [
      "[<File file id=file-ZIPZW8WrCSFsXuK8tMfIXn76 at 0x10654a860> JSON: {\n",
      "  \"object\": \"file\",\n",
      "  \"id\": \"file-ZIPZW8WrCSFsXuK8tMfIXn76\",\n",
      "  \"purpose\": \"fine-tune\",\n",
      "  \"filename\": \"finetuning_data_prepared_train.jsonl\",\n",
      "  \"bytes\": 1617332,\n",
      "  \"created_at\": 1687371043,\n",
      "  \"status\": \"processed\",\n",
      "  \"status_details\": null\n",
      "}, <File file id=file-qreHIzjsBy7T3cDPLu6SsMok at 0x106599cc0> JSON: {\n",
      "  \"object\": \"file\",\n",
      "  \"id\": \"file-qreHIzjsBy7T3cDPLu6SsMok\",\n",
      "  \"purpose\": \"fine-tune\",\n",
      "  \"filename\": \"finetuning_data_prepared_train.jsonl\",\n",
      "  \"bytes\": 1383286,\n",
      "  \"created_at\": 1687359847,\n",
      "  \"status\": \"processed\",\n",
      "  \"status_details\": null\n",
      "}, <File file id=file-13gntKbHirnJ8PyTRksKtj59 at 0x106599770> JSON: {\n",
      "  \"object\": \"file\",\n",
      "  \"id\": \"file-13gntKbHirnJ8PyTRksKtj59\",\n",
      "  \"purpose\": \"fine-tune\",\n",
      "  \"filename\": \"finetuning_data_prepared_train.jsonl\",\n",
      "  \"bytes\": 1617332,\n",
      "  \"created_at\": 1687371816,\n",
      "  \"status\": \"processed\",\n",
      "  \"status_details\": null\n",
      "}, <File file id=file-Tw8R8WJmiG1j76lRFAAgszX1 at 0x1065999a0> JSON: {\n",
      "  \"object\": \"file\",\n",
      "  \"id\": \"file-Tw8R8WJmiG1j76lRFAAgszX1\",\n",
      "  \"purpose\": \"fine-tune\",\n",
      "  \"filename\": \"finetuning_data_prepared_valid.jsonl\",\n",
      "  \"bytes\": 403943,\n",
      "  \"created_at\": 1687371820,\n",
      "  \"status\": \"processed\",\n",
      "  \"status_details\": null\n",
      "}, <File file id=file-Vj2Iz1HloOOA9RU2WYW3wGWt at 0x10659da90> JSON: {\n",
      "  \"object\": \"file\",\n",
      "  \"id\": \"file-Vj2Iz1HloOOA9RU2WYW3wGWt\",\n",
      "  \"purpose\": \"fine-tune-results\",\n",
      "  \"filename\": \"compiled_results.csv\",\n",
      "  \"bytes\": 104639,\n",
      "  \"created_at\": 1687376455,\n",
      "  \"status\": \"processed\",\n",
      "  \"status_details\": null\n",
      "}, <File file id=file-saCKh9bOFsqFNPavmCtFhQUn at 0x10659ddb0> JSON: {\n",
      "  \"object\": \"file\",\n",
      "  \"id\": \"file-saCKh9bOFsqFNPavmCtFhQUn\",\n",
      "  \"purpose\": \"fine-tune\",\n",
      "  \"filename\": \"file\",\n",
      "  \"bytes\": 2126966,\n",
      "  \"created_at\": 1692863102,\n",
      "  \"status\": \"processed\",\n",
      "  \"status_details\": null\n",
      "}, <File file id=file-VsJPASeF9A0uVeu1RCM4aLVq at 0x10659bea0> JSON: {\n",
      "  \"object\": \"file\",\n",
      "  \"id\": \"file-VsJPASeF9A0uVeu1RCM4aLVq\",\n",
      "  \"purpose\": \"fine-tune\",\n",
      "  \"filename\": \"file\",\n",
      "  \"bytes\": 2126966,\n",
      "  \"created_at\": 1692863319,\n",
      "  \"status\": \"processed\",\n",
      "  \"status_details\": null\n",
      "}, <File file id=file-JTjBGO2R5BN6tVSj2OgmtbGg at 0x10659bf90> JSON: {\n",
      "  \"object\": \"file\",\n",
      "  \"id\": \"file-JTjBGO2R5BN6tVSj2OgmtbGg\",\n",
      "  \"purpose\": \"fine-tune\",\n",
      "  \"filename\": \"file\",\n",
      "  \"bytes\": 2126966,\n",
      "  \"created_at\": 1692863222,\n",
      "  \"status\": \"processed\",\n",
      "  \"status_details\": null\n",
      "}, <File file id=file-cKfKV63YnIWNfjPP9JDAuUjP at 0x10659b9f0> JSON: {\n",
      "  \"object\": \"file\",\n",
      "  \"id\": \"file-cKfKV63YnIWNfjPP9JDAuUjP\",\n",
      "  \"purpose\": \"fine-tune\",\n",
      "  \"filename\": \"file\",\n",
      "  \"bytes\": 2126966,\n",
      "  \"created_at\": 1692863494,\n",
      "  \"status\": \"processed\",\n",
      "  \"status_details\": null\n",
      "}, <File file id=file-oGRzycrmwQ1dtFoCBH88QvHy at 0x10659bbd0> JSON: {\n",
      "  \"object\": \"file\",\n",
      "  \"id\": \"file-oGRzycrmwQ1dtFoCBH88QvHy\",\n",
      "  \"purpose\": \"fine-tune-results\",\n",
      "  \"filename\": \"step_metrics.csv\",\n",
      "  \"bytes\": 30690,\n",
      "  \"created_at\": 1692866544,\n",
      "  \"status\": \"processed\",\n",
      "  \"status_details\": null\n",
      "}, <File file id=file-1rKi5gwxHZtftikKzOeLF65v at 0x10659b810> JSON: {\n",
      "  \"object\": \"file\",\n",
      "  \"id\": \"file-1rKi5gwxHZtftikKzOeLF65v\",\n",
      "  \"purpose\": \"fine-tune-results\",\n",
      "  \"filename\": \"step_metrics.csv\",\n",
      "  \"bytes\": 30316,\n",
      "  \"created_at\": 1694156091,\n",
      "  \"status\": \"processed\",\n",
      "  \"status_details\": null\n",
      "}, <File file id=file-mJRBnhOYtutJlTY9GGHmB3FB at 0x10659b950> JSON: {\n",
      "  \"object\": \"file\",\n",
      "  \"id\": \"file-mJRBnhOYtutJlTY9GGHmB3FB\",\n",
      "  \"purpose\": \"fine-tune\",\n",
      "  \"filename\": \"file\",\n",
      "  \"bytes\": 4618921,\n",
      "  \"created_at\": 1694093752,\n",
      "  \"status\": \"processed\",\n",
      "  \"status_details\": null\n",
      "}, <File file id=file-Ow46UXJlMmtMR3GDRJFlRTps at 0x10659b310> JSON: {\n",
      "  \"object\": \"file\",\n",
      "  \"id\": \"file-Ow46UXJlMmtMR3GDRJFlRTps\",\n",
      "  \"purpose\": \"fine-tune\",\n",
      "  \"filename\": \"file\",\n",
      "  \"bytes\": 18907004,\n",
      "  \"created_at\": 1694093748,\n",
      "  \"status\": \"processed\",\n",
      "  \"status_details\": null\n",
      "}, <File file id=file-4zDi8JIBQD2mEAayR1cE0z9W at 0x10659b720> JSON: {\n",
      "  \"object\": \"file\",\n",
      "  \"id\": \"file-4zDi8JIBQD2mEAayR1cE0z9W\",\n",
      "  \"purpose\": \"fine-tune\",\n",
      "  \"filename\": \"val_dataset_0709\",\n",
      "  \"bytes\": 4618921,\n",
      "  \"created_at\": 1694094179,\n",
      "  \"status\": \"processed\",\n",
      "  \"status_details\": null\n",
      "}, <File file id=file-SxUk3rRKEMN3aFB9SVWpYH4L at 0x10659b770> JSON: {\n",
      "  \"object\": \"file\",\n",
      "  \"id\": \"file-SxUk3rRKEMN3aFB9SVWpYH4L\",\n",
      "  \"purpose\": \"fine-tune\",\n",
      "  \"filename\": \"train_dataset_0709\",\n",
      "  \"bytes\": 18907004,\n",
      "  \"created_at\": 1694094176,\n",
      "  \"status\": \"processed\",\n",
      "  \"status_details\": null\n",
      "}, <File file id=file-73h1zoKPbCy9Oo3ozqhOUlSK at 0x10659bd60> JSON: {\n",
      "  \"object\": \"file\",\n",
      "  \"id\": \"file-73h1zoKPbCy9Oo3ozqhOUlSK\",\n",
      "  \"purpose\": \"fine-tune\",\n",
      "  \"filename\": \"val_dataset_0809_small\",\n",
      "  \"bytes\": 2388491,\n",
      "  \"created_at\": 1694152062,\n",
      "  \"status\": \"processed\",\n",
      "  \"status_details\": null\n",
      "}, <File file id=file-F1zmk3MzUgPZVCUMNesrbqTD at 0x10659bcc0> JSON: {\n",
      "  \"object\": \"file\",\n",
      "  \"id\": \"file-F1zmk3MzUgPZVCUMNesrbqTD\",\n",
      "  \"purpose\": \"fine-tune\",\n",
      "  \"filename\": \"train_dataset_0809_small\",\n",
      "  \"bytes\": 9510946,\n",
      "  \"created_at\": 1694152058,\n",
      "  \"status\": \"processed\",\n",
      "  \"status_details\": null\n",
      "}, <File file id=file-RUidKpmKabosRs3PF81YhGes at 0x10659bc70> JSON: {\n",
      "  \"object\": \"file\",\n",
      "  \"id\": \"file-RUidKpmKabosRs3PF81YhGes\",\n",
      "  \"purpose\": \"fine-tune\",\n",
      "  \"filename\": \"train_blotout2023-10-11_15:05:47.694317\",\n",
      "  \"bytes\": 5255686,\n",
      "  \"created_at\": 1697016957,\n",
      "  \"status\": \"processed\",\n",
      "  \"status_details\": null\n",
      "}]\n"
     ]
    }
   ],
   "source": [
    "print(openai.File.list()[\"data\"])"
   ]
  },
  {
   "cell_type": "markdown",
   "metadata": {},
   "source": [
    "train_blotout2023-10-11_15:05:47.694317 : file-RUidKpmKabosRs3PF81YhGes"
   ]
  },
  {
   "cell_type": "code",
   "execution_count": 21,
   "metadata": {},
   "outputs": [],
   "source": [
    "create_jobs(\"file-RUidKpmKabosRs3PF81YhGes\")"
   ]
  },
  {
   "cell_type": "code",
   "execution_count": 39,
   "metadata": {},
   "outputs": [
    {
     "data": {
      "text/plain": [
       "<OpenAIObject list at 0x10658c7c0> JSON: {\n",
       "  \"object\": \"list\",\n",
       "  \"data\": [\n",
       "    {\n",
       "      \"object\": \"fine_tuning.job\",\n",
       "      \"id\": \"ftjob-VnAhr8GL7242CeSXHXBQPHOn\",\n",
       "      \"model\": \"gpt-3.5-turbo-0613\",\n",
       "      \"created_at\": 1697025077,\n",
       "      \"finished_at\": null,\n",
       "      \"fine_tuned_model\": null,\n",
       "      \"organization_id\": \"org-Ts7Yq2E7boGzRTMgBIbmsUmj\",\n",
       "      \"result_files\": [],\n",
       "      \"status\": \"validating_files\",\n",
       "      \"validation_file\": null,\n",
       "      \"training_file\": \"file-RUidKpmKabosRs3PF81YhGes\",\n",
       "      \"hyperparameters\": {\n",
       "        \"n_epochs\": \"auto\"\n",
       "      },\n",
       "      \"trained_tokens\": null,\n",
       "      \"error\": null\n",
       "    },\n",
       "    {\n",
       "      \"object\": \"fine_tuning.job\",\n",
       "      \"id\": \"ftjob-EBJFa5rJIYkzr8cCAgV5pX6I\",\n",
       "      \"model\": \"gpt-3.5-turbo-0613\",\n",
       "      \"created_at\": 1697017093,\n",
       "      \"finished_at\": null,\n",
       "      \"fine_tuned_model\": null,\n",
       "      \"organization_id\": \"org-Ts7Yq2E7boGzRTMgBIbmsUmj\",\n",
       "      \"result_files\": [],\n",
       "      \"status\": \"cancelled\",\n",
       "      \"validation_file\": null,\n",
       "      \"training_file\": \"file-RUidKpmKabosRs3PF81YhGes\",\n",
       "      \"hyperparameters\": {\n",
       "        \"n_epochs\": \"auto\"\n",
       "      },\n",
       "      \"trained_tokens\": null,\n",
       "      \"error\": null\n",
       "    },\n",
       "    {\n",
       "      \"object\": \"fine_tuning.job\",\n",
       "      \"id\": \"ftjob-VOgZTwkX8dYcaktcCh8yf6V5\",\n",
       "      \"model\": \"gpt-3.5-turbo-0613\",\n",
       "      \"created_at\": 1694152597,\n",
       "      \"finished_at\": 1694156088,\n",
       "      \"fine_tuned_model\": \"ft:gpt-3.5-turbo-0613:saydata::7wPg9WGE\",\n",
       "      \"organization_id\": \"org-Ts7Yq2E7boGzRTMgBIbmsUmj\",\n",
       "      \"result_files\": [\n",
       "        \"file-1rKi5gwxHZtftikKzOeLF65v\"\n",
       "      ],\n",
       "      \"status\": \"succeeded\",\n",
       "      \"validation_file\": \"file-73h1zoKPbCy9Oo3ozqhOUlSK\",\n",
       "      \"training_file\": \"file-F1zmk3MzUgPZVCUMNesrbqTD\",\n",
       "      \"hyperparameters\": {\n",
       "        \"n_epochs\": 3\n",
       "      },\n",
       "      \"trained_tokens\": 7264458,\n",
       "      \"error\": null\n",
       "    },\n",
       "    {\n",
       "      \"object\": \"fine_tuning.job\",\n",
       "      \"id\": \"ftjob-ZiaMFdUXOZD7eB4KiYaqNdaY\",\n",
       "      \"model\": \"gpt-3.5-turbo-0613\",\n",
       "      \"created_at\": 1692863686,\n",
       "      \"finished_at\": 1692866545,\n",
       "      \"fine_tuned_model\": \"ft:gpt-3.5-turbo-0613:saydata::7r0D0RPu\",\n",
       "      \"organization_id\": \"org-Ts7Yq2E7boGzRTMgBIbmsUmj\",\n",
       "      \"result_files\": [\n",
       "        \"file-oGRzycrmwQ1dtFoCBH88QvHy\"\n",
       "      ],\n",
       "      \"status\": \"succeeded\",\n",
       "      \"validation_file\": null,\n",
       "      \"training_file\": \"file-cKfKV63YnIWNfjPP9JDAuUjP\",\n",
       "      \"hyperparameters\": {\n",
       "        \"n_epochs\": 3\n",
       "      },\n",
       "      \"trained_tokens\": 1752414,\n",
       "      \"error\": null\n",
       "    }\n",
       "  ],\n",
       "  \"has_more\": false\n",
       "}"
      ]
     },
     "execution_count": 39,
     "metadata": {},
     "output_type": "execute_result"
    }
   ],
   "source": [
    "openai.FineTuningJob.list(limit=10)"
   ]
  },
  {
   "cell_type": "markdown",
   "metadata": {},
   "source": [
    "finetune job id : ftjob-VnAhr8GL7242CeSXHXBQPHOn"
   ]
  },
  {
   "cell_type": "code",
   "execution_count": 40,
   "metadata": {},
   "outputs": [],
   "source": [
    "finetune_job = \"ftjob-VnAhr8GL7242CeSXHXBQPHOn\""
   ]
  },
  {
   "cell_type": "code",
   "execution_count": 41,
   "metadata": {},
   "outputs": [],
   "source": [
    "event_list = openai.FineTuningJob.list_events(id=finetune_job)[\"data\"]\n",
    "# print(event_list[:3])\n",
    "training_metrics = [(event[\"data\"][\"step\"], event[\"data\"][\"train_loss\"], event[\"data\"][\"train_mean_token_accuracy\"]) for event in event_list if event[\"type\"]==\"metrics\"]"
   ]
  },
  {
   "cell_type": "code",
   "execution_count": 42,
   "metadata": {},
   "outputs": [
    {
     "data": {
      "text/plain": [
       "<OpenAIObject list at 0x10654f1d0> JSON: {\n",
       "  \"object\": \"list\",\n",
       "  \"data\": [\n",
       "    {\n",
       "      \"object\": \"fine_tuning.job.event\",\n",
       "      \"id\": \"ftevent-Ct0o85kM2rZv9BRGrDH6o0Gg\",\n",
       "      \"created_at\": 1697025077,\n",
       "      \"level\": \"info\",\n",
       "      \"message\": \"Validating training file: file-RUidKpmKabosRs3PF81YhGes\",\n",
       "      \"data\": {},\n",
       "      \"type\": \"message\"\n",
       "    },\n",
       "    {\n",
       "      \"object\": \"fine_tuning.job.event\",\n",
       "      \"id\": \"ftevent-n6l8xD30Lt45y2IXWlfWHPDu\",\n",
       "      \"created_at\": 1697025077,\n",
       "      \"level\": \"info\",\n",
       "      \"message\": \"Created fine-tuning job: ftjob-VnAhr8GL7242CeSXHXBQPHOn\",\n",
       "      \"data\": {},\n",
       "      \"type\": \"message\"\n",
       "    }\n",
       "  ],\n",
       "  \"has_more\": false\n",
       "}"
      ]
     },
     "execution_count": 42,
     "metadata": {},
     "output_type": "execute_result"
    }
   ],
   "source": [
    "openai.FineTuningJob.list_events(id=finetune_job, limit=10)"
   ]
  },
  {
   "cell_type": "code",
   "execution_count": 43,
   "metadata": {},
   "outputs": [
    {
     "data": {
      "text/plain": [
       "[]"
      ]
     },
     "execution_count": 43,
     "metadata": {},
     "output_type": "execute_result"
    }
   ],
   "source": [
    "training_metrics"
   ]
  },
  {
   "cell_type": "markdown",
   "metadata": {},
   "source": [
    "# Finetuned Model\n",
    "\n",
    "ft:gpt-3.5-turbo-0613:saydata::7wPg9WGE"
   ]
  },
  {
   "cell_type": "code",
   "execution_count": 11,
   "metadata": {},
   "outputs": [],
   "source": [
    "# Testing it out\n",
    "import json\n",
    "\n",
    "with open(\"metadata/train/small_finetune_test_dataset.jsonl\", \"r\") as f:\n",
    "    test_data = list(f)[:100]\n",
    "\n",
    "run_prompts = []\n",
    "\n",
    "for prompt_json in test_data:\n",
    "    prompt = json.loads(prompt_json)\n",
    "    temp = {\n",
    "        \"messages\": [i for i in prompt[\"messages\"] if i[\"role\"]!=\"assistant\"]\n",
    "    }\n",
    "    true_value = [i for i in prompt[\"messages\"] if i[\"role\"]==\"assistant\"][0]\n",
    "    run_prompts.append((temp, true_value))"
   ]
  },
  {
   "cell_type": "code",
   "execution_count": 12,
   "metadata": {},
   "outputs": [
    {
     "data": {
      "text/plain": [
       "({'messages': [{'role': 'system',\n",
       "    'content': 'You are an SQL chatbot. Generate relevant MySQL query for questions'},\n",
       "   {'role': 'user',\n",
       "    'content': 'Generate the MySQL query to answer this question: How many properties have undergone renovations?\\n\\n                Use this database metadata to generate the query: \\n\\n                [{\\'table\\': \\'maintenance_logs\\', \\'table_description\\': \"The \\'maintenance_logs\\' table in the \\'real_estate_mgmt\\' database stores records of property maintenance activities. It includes details such as the log ID, property ID, maintenance date and type, description, contractor information, cost, invoice number, payment status and date, next maintenance date, and timestamps for record creation and updates.\", \\'columns\\': {\\'property_id\\': (\\'The `property_id` refers to the unique identifier of the property associated with the maintenance log.\\', [101, 102, 103, 104, 105, 106, 107, 108, 109, 110]), \\'maintenance_type\\': (\\'The `maintenance_type` describes the type of maintenance activity performed.\\', [\\'Plumbing\\', \\'Electrical\\', \\'HVAC\\', \\'Roofing\\', \\'Landscaping\\', \\'Painting\\', \\'Flooring\\', \\'Carpentry\\', \\'Appliance Repair\\', \\'General\\'])}, \\'joins\\': [{\\'property_details\\': \\'property_id\\', \\'maintenance_logs\\': \\'property_id\\'}, {\\'owner_info\\': \\'current_value\\', \\'maintenance_logs\\': \\'cost\\'}]}, {\\'table\\': \\'property_details\\', \\'table_description\\': \\'The `property_details` table in the `real_estate_mgmt` database stores information about various properties, including their ID, name, type, address, owner details, purchase date, purchase price, and current value.\\', \\'columns\\': {\\'zip_code\\': (\"The `zip_code` is the postal code of the property\\'s location.\", [10001, 90001, 60601, 77001, 85001]), \\'city\\': (\\'The `city` refers to the city where the property is located.\\', [\\'New York\\', \\'Los Angeles\\', \\'Chicago\\', \\'Houston\\', \\'Phoenix\\'])}, \\'joins\\': [{\\'property_details\\': \\'property_id\\', \\'owner_info\\': \\'property_location\\'}, {\\'property_details\\': \\'property_id\\', \\'tenant_info\\': \\'rental_unit_id\\'}, {\\'property_details\\': \\'property_id\\', \\'lease_agreements\\': \\'property_id\\'}, {\\'property_details\\': \\'property_id\\', \\'payments\\': \\'property_id\\'}, {\\'property_details\\': \\'property_id\\', \\'maintenance_logs\\': \\'property_id\\'}, {\\'property_details\\': \\'property_id\\', \\'property_images\\': \\'property_id\\'}, {\\'property_details\\': \\'property_id\\', \\'property_viewings\\': \\'property_id\\'}, {\\'property_details\\': \\'property_id\\', \\'property_location\\': \\'property_id\\'}, {\\'property_details\\': \\'property_id\\', \\'transaction_history\\': \\'property_id\\'}, {\\'property_details\\': \\'property_id\\', \\'property_insurance\\': \\'property_id\\'}, {\\'property_details\\': \\'property_id\\', \\'tax_records\\': \\'Property_ID\\'}]}, {\\'table\\': \\'property_images\\', \\'table_description\\': \"The \\'property_images\\' table in the \\'real_estate_mgmt\\' database stores information about images related to properties. It includes details like image name, URL, size, format, resolution, description, upload details, modification details, image status (main, thumbnail, gallery), tags, orientation, and whether the image is active or archived.\", \\'columns\\': {\\'tag_4\\': (\\'The `tag_4` column stores a fourth tag associated with the image.\\', [\\'carpet\\', \\'oven\\', \\'lamp\\', \\'toilet\\', \\'flowers\\', \\'bike\\', \\'carpet\\', \\'oven\\', \\'lamp\\', \\'toilet\\']), \\'tag_3\\': (\\'The `tag_3` column stores a third tag associated with the image.\\', [\\'TV\\', \\'fridge\\', \\'wardrobe\\', \\'sink\\', \\'grass\\', \\'tools\\', \\'TV\\', \\'fridge\\', \\'wardrobe\\', \\'sink\\']), \\'uploaded_by\\': (\\'The `uploaded_by` column stores the ID of the user who uploaded the image.\\', [1, 2, 3, 4, 5, 6, 7, 8, 9, 10]), \\'tag_1\\': (\\'The `tag_1` column stores a tag associated with the image.\\', [\\'living room\\', \\'kitchen\\', \\'bedroom\\', \\'bathroom\\', \\'garden\\', \\'garage\\', \\'living room\\', \\'kitchen\\', \\'bedroom\\', \\'bathroom\\']), \\'property_id\\': (\\'The `property_id` column links the image to a specific property in the `real_estate_mgmt` database.\\', [101, 102, 103, 104, 105, 106, 107, 108, 109, 110]), \\'last_modified_date\\': (\\'The `last_modified_date` column stores the date when the image was last modified.\\', [\\'2022-01-11\\', \\'2022-01-12\\', \\'2022-01-13\\', \\'2022-01-14\\', \\'2022-01-15\\', \\'2022-01-16\\', \\'2022-01-17\\', \\'2022-01-18\\', \\'2022-01-19\\', \\'2022-01-20\\'])}, \\'joins\\': [{\\'property_details\\': \\'property_id\\', \\'property_images\\': \\'property_id\\'}]}]\\n\\n                Give the MySQL query enclosed in ```'}]},\n",
       " {'role': 'assistant',\n",
       "  'content': \"```SELECT COUNT(DISTINCT property_id) AS renovated_properties FROM maintenance_logs WHERE maintenance_type = 'Renovation'```\"})"
      ]
     },
     "execution_count": 12,
     "metadata": {},
     "output_type": "execute_result"
    }
   ],
   "source": [
    "run_prompts[0]"
   ]
  },
  {
   "cell_type": "code",
   "execution_count": null,
   "metadata": {},
   "outputs": [],
   "source": [
    "def wrapper_llm()"
   ]
  },
  {
   "cell_type": "code",
   "execution_count": 14,
   "metadata": {},
   "outputs": [
    {
     "name": "stderr",
     "output_type": "stream",
     "text": [
      "\n",
      "\n",
      "\u001b[A\u001b[A\n",
      "\n",
      "\u001b[A\u001b[A\n",
      "\n",
      "\u001b[A\u001b[A\n",
      "\n",
      "\u001b[A\u001b[A\n",
      "\n",
      "\u001b[A\u001b[A\n",
      "\n",
      "\u001b[A\u001b[A\n",
      "\n",
      "\u001b[A\u001b[A\n",
      "\n",
      "\u001b[A\u001b[A\n",
      "\n",
      "\u001b[A\u001b[A\n",
      "\n",
      "\u001b[A\u001b[A\n",
      "\n",
      "\u001b[A\u001b[A\n",
      "\n",
      "\u001b[A\u001b[A\n",
      "\n",
      "\u001b[A\u001b[A\n",
      "\n",
      "\u001b[A\u001b[A\n",
      "\n",
      "\u001b[A\u001b[A\n",
      "\n",
      "\u001b[A\u001b[A\n",
      "\n",
      "\u001b[A\u001b[A\n",
      "\n",
      "\u001b[A\u001b[A\n",
      "\n",
      "\u001b[A\u001b[A\n",
      "\n",
      "\u001b[A\u001b[A\n",
      "\n",
      "\u001b[A\u001b[A\n",
      "\n",
      "\u001b[A\u001b[A\n",
      "\n",
      "\u001b[A\u001b[A\n",
      "\n",
      "\u001b[A\u001b[A\n",
      "\n",
      "100%|██████████| 100/100 [01:32<00:00,  1.08it/s]\n"
     ]
    }
   ],
   "source": [
    "from tqdm import tqdm\n",
    "from joblib import Parallel, delayed\n",
    "from generate_metadata import LLM\n",
    "llm_finetuned = LLM(model=\"ft:gpt-3.5-turbo-0613:saydata::7wPg9WGE\")\n",
    "\n",
    "finetuned_results = Parallel(n_jobs=4)(delayed(llm_finetuned.create)(prompt[0][\"messages\"]) for prompt in tqdm(run_prompts))"
   ]
  },
  {
   "cell_type": "code",
   "execution_count": 15,
   "metadata": {},
   "outputs": [
    {
     "name": "stderr",
     "output_type": "stream",
     "text": [
      "\n",
      "\n",
      "\u001b[A\u001b[A\n",
      "\n",
      "  3%|▎         | 15/550 [26:22<15:40:48, 105.51s/it]\n",
      " 30%|███       | 167/550 [24:28<56:07,  8.79s/it]\n",
      "\n",
      "\n",
      "\u001b[A\u001b[A\n",
      "\n",
      "\u001b[A\u001b[A\n",
      "\n",
      "\u001b[A\u001b[A\n",
      "\n",
      "\u001b[A\u001b[A\n",
      "\n",
      "\u001b[A\u001b[A\n",
      "\n",
      "\u001b[A\u001b[A\n",
      "\n",
      "\u001b[A\u001b[A\n",
      "\n",
      "\u001b[A\u001b[A\n",
      "\n",
      "\u001b[A\u001b[A\n",
      "\n",
      "\u001b[A\u001b[A\n",
      "\n",
      "\u001b[A\u001b[A\n",
      "\n",
      "\u001b[A\u001b[A\n",
      "\n",
      "\u001b[A\u001b[A\n",
      "\n",
      "\u001b[A\u001b[A\n",
      "\n",
      "\u001b[A\u001b[A\n",
      "\n",
      "\u001b[A\u001b[A\n",
      "\n",
      "\u001b[A\u001b[A\n",
      "\n",
      "\u001b[A\u001b[A\n",
      "\n",
      "\u001b[A\u001b[A\n",
      "\n",
      "\u001b[A\u001b[A\n",
      "\n",
      "\u001b[A\u001b[A\n",
      "\n",
      "\u001b[A\u001b[A\n",
      "\n",
      "100%|██████████| 100/100 [02:26<00:00,  1.47s/it]\n"
     ]
    }
   ],
   "source": [
    "llm_vanilla = LLM(model=\"gpt-3.5-turbo-16k\")\n",
    "\n",
    "vanilla_results = Parallel(n_jobs=4)(delayed(llm_vanilla.create)(prompt[0][\"messages\"]) for prompt in tqdm(run_prompts))"
   ]
  },
  {
   "cell_type": "code",
   "execution_count": null,
   "metadata": {},
   "outputs": [],
   "source": []
  }
 ],
 "metadata": {
  "kernelspec": {
   "display_name": "llama",
   "language": "python",
   "name": "python3"
  },
  "language_info": {
   "codemirror_mode": {
    "name": "ipython",
    "version": 3
   },
   "file_extension": ".py",
   "mimetype": "text/x-python",
   "name": "python",
   "nbconvert_exporter": "python",
   "pygments_lexer": "ipython3",
   "version": "3.9.18"
  },
  "orig_nbformat": 4
 },
 "nbformat": 4,
 "nbformat_minor": 2
}
